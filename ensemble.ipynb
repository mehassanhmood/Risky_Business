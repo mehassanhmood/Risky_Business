{
 "cells": [
  {
   "cell_type": "markdown",
   "id": "199d5397-4692-4473-beb1-38a6f61107de",
   "metadata": {},
   "source": [
    "## Imports"
   ]
  },
  {
   "cell_type": "code",
   "execution_count": 1,
   "id": "979bac20-954d-410c-aba0-c01ee978790b",
   "metadata": {},
   "outputs": [],
   "source": [
    "import warnings\n",
    "warnings.filterwarnings('ignore')"
   ]
  },
  {
   "cell_type": "code",
   "execution_count": 37,
   "id": "b8a5a5c7-7cfb-4546-ae07-53e0794235f8",
   "metadata": {},
   "outputs": [],
   "source": [
    "# Importing libraries and dependencies:\n",
    "import pandas as pd\n",
    "import numpy as np\n",
    "from collections import Counter"
   ]
  },
  {
   "cell_type": "code",
   "execution_count": 38,
   "id": "021a1824-c142-4e58-930e-4e4c7c0f5ad3",
   "metadata": {},
   "outputs": [],
   "source": [
    "# Importing the evaluation metrics for models:\n",
    "from sklearn.metrics import balanced_accuracy_score,confusion_matrix\n",
    "from imblearn.metrics import classification_report_imbalanced"
   ]
  },
  {
   "cell_type": "markdown",
   "id": "c8a99b84-ef56-42c0-b895-5255605bf260",
   "metadata": {},
   "source": [
    "## Data Processing"
   ]
  },
  {
   "cell_type": "code",
   "execution_count": 39,
   "id": "343ed953-fbab-4595-8a0c-41ed8ec5e36d",
   "metadata": {},
   "outputs": [],
   "source": [
    "# Retreiving data:\n",
    "df = pd.read_csv('LoanStats_2019Q1 (1).csv')"
   ]
  },
  {
   "cell_type": "code",
   "execution_count": 40,
   "id": "7f96339a-aea3-4169-b583-14e6483274ae",
   "metadata": {},
   "outputs": [
    {
     "data": {
      "text/html": [
       "<div>\n",
       "<style scoped>\n",
       "    .dataframe tbody tr th:only-of-type {\n",
       "        vertical-align: middle;\n",
       "    }\n",
       "\n",
       "    .dataframe tbody tr th {\n",
       "        vertical-align: top;\n",
       "    }\n",
       "\n",
       "    .dataframe thead th {\n",
       "        text-align: right;\n",
       "    }\n",
       "</style>\n",
       "<table border=\"1\" class=\"dataframe\">\n",
       "  <thead>\n",
       "    <tr style=\"text-align: right;\">\n",
       "      <th></th>\n",
       "      <th>loan_amnt</th>\n",
       "      <th>int_rate</th>\n",
       "      <th>installment</th>\n",
       "      <th>home_ownership</th>\n",
       "      <th>annual_inc</th>\n",
       "      <th>verification_status</th>\n",
       "      <th>issue_d</th>\n",
       "      <th>loan_status</th>\n",
       "      <th>pymnt_plan</th>\n",
       "      <th>dti</th>\n",
       "      <th>...</th>\n",
       "      <th>pct_tl_nvr_dlq</th>\n",
       "      <th>percent_bc_gt_75</th>\n",
       "      <th>pub_rec_bankruptcies</th>\n",
       "      <th>tax_liens</th>\n",
       "      <th>tot_hi_cred_lim</th>\n",
       "      <th>total_bal_ex_mort</th>\n",
       "      <th>total_bc_limit</th>\n",
       "      <th>total_il_high_credit_limit</th>\n",
       "      <th>hardship_flag</th>\n",
       "      <th>debt_settlement_flag</th>\n",
       "    </tr>\n",
       "  </thead>\n",
       "  <tbody>\n",
       "    <tr>\n",
       "      <th>0</th>\n",
       "      <td>10500.0</td>\n",
       "      <td>0.1719</td>\n",
       "      <td>375.35</td>\n",
       "      <td>RENT</td>\n",
       "      <td>66000.0</td>\n",
       "      <td>Source Verified</td>\n",
       "      <td>Mar-2019</td>\n",
       "      <td>low_risk</td>\n",
       "      <td>n</td>\n",
       "      <td>27.24</td>\n",
       "      <td>...</td>\n",
       "      <td>85.7</td>\n",
       "      <td>100.0</td>\n",
       "      <td>0.0</td>\n",
       "      <td>0.0</td>\n",
       "      <td>65687.0</td>\n",
       "      <td>38199.0</td>\n",
       "      <td>2000.0</td>\n",
       "      <td>61987.0</td>\n",
       "      <td>N</td>\n",
       "      <td>N</td>\n",
       "    </tr>\n",
       "    <tr>\n",
       "      <th>1</th>\n",
       "      <td>25000.0</td>\n",
       "      <td>0.2000</td>\n",
       "      <td>929.09</td>\n",
       "      <td>MORTGAGE</td>\n",
       "      <td>105000.0</td>\n",
       "      <td>Verified</td>\n",
       "      <td>Mar-2019</td>\n",
       "      <td>low_risk</td>\n",
       "      <td>n</td>\n",
       "      <td>20.23</td>\n",
       "      <td>...</td>\n",
       "      <td>91.2</td>\n",
       "      <td>50.0</td>\n",
       "      <td>1.0</td>\n",
       "      <td>0.0</td>\n",
       "      <td>271427.0</td>\n",
       "      <td>60641.0</td>\n",
       "      <td>41200.0</td>\n",
       "      <td>49197.0</td>\n",
       "      <td>N</td>\n",
       "      <td>N</td>\n",
       "    </tr>\n",
       "    <tr>\n",
       "      <th>2</th>\n",
       "      <td>20000.0</td>\n",
       "      <td>0.2000</td>\n",
       "      <td>529.88</td>\n",
       "      <td>MORTGAGE</td>\n",
       "      <td>56000.0</td>\n",
       "      <td>Verified</td>\n",
       "      <td>Mar-2019</td>\n",
       "      <td>low_risk</td>\n",
       "      <td>n</td>\n",
       "      <td>24.26</td>\n",
       "      <td>...</td>\n",
       "      <td>66.7</td>\n",
       "      <td>50.0</td>\n",
       "      <td>0.0</td>\n",
       "      <td>0.0</td>\n",
       "      <td>60644.0</td>\n",
       "      <td>45684.0</td>\n",
       "      <td>7500.0</td>\n",
       "      <td>43144.0</td>\n",
       "      <td>N</td>\n",
       "      <td>N</td>\n",
       "    </tr>\n",
       "    <tr>\n",
       "      <th>3</th>\n",
       "      <td>10000.0</td>\n",
       "      <td>0.1640</td>\n",
       "      <td>353.55</td>\n",
       "      <td>RENT</td>\n",
       "      <td>92000.0</td>\n",
       "      <td>Verified</td>\n",
       "      <td>Mar-2019</td>\n",
       "      <td>low_risk</td>\n",
       "      <td>n</td>\n",
       "      <td>31.44</td>\n",
       "      <td>...</td>\n",
       "      <td>100.0</td>\n",
       "      <td>50.0</td>\n",
       "      <td>1.0</td>\n",
       "      <td>0.0</td>\n",
       "      <td>99506.0</td>\n",
       "      <td>68784.0</td>\n",
       "      <td>19700.0</td>\n",
       "      <td>76506.0</td>\n",
       "      <td>N</td>\n",
       "      <td>N</td>\n",
       "    </tr>\n",
       "    <tr>\n",
       "      <th>4</th>\n",
       "      <td>22000.0</td>\n",
       "      <td>0.1474</td>\n",
       "      <td>520.39</td>\n",
       "      <td>MORTGAGE</td>\n",
       "      <td>52000.0</td>\n",
       "      <td>Not Verified</td>\n",
       "      <td>Mar-2019</td>\n",
       "      <td>low_risk</td>\n",
       "      <td>n</td>\n",
       "      <td>18.76</td>\n",
       "      <td>...</td>\n",
       "      <td>100.0</td>\n",
       "      <td>0.0</td>\n",
       "      <td>0.0</td>\n",
       "      <td>0.0</td>\n",
       "      <td>219750.0</td>\n",
       "      <td>25919.0</td>\n",
       "      <td>27600.0</td>\n",
       "      <td>20000.0</td>\n",
       "      <td>N</td>\n",
       "      <td>N</td>\n",
       "    </tr>\n",
       "  </tbody>\n",
       "</table>\n",
       "<p>5 rows × 86 columns</p>\n",
       "</div>"
      ],
      "text/plain": [
       "   loan_amnt  int_rate  installment home_ownership  annual_inc  \\\n",
       "0    10500.0    0.1719       375.35           RENT     66000.0   \n",
       "1    25000.0    0.2000       929.09       MORTGAGE    105000.0   \n",
       "2    20000.0    0.2000       529.88       MORTGAGE     56000.0   \n",
       "3    10000.0    0.1640       353.55           RENT     92000.0   \n",
       "4    22000.0    0.1474       520.39       MORTGAGE     52000.0   \n",
       "\n",
       "  verification_status   issue_d loan_status pymnt_plan    dti  ...  \\\n",
       "0     Source Verified  Mar-2019    low_risk          n  27.24  ...   \n",
       "1            Verified  Mar-2019    low_risk          n  20.23  ...   \n",
       "2            Verified  Mar-2019    low_risk          n  24.26  ...   \n",
       "3            Verified  Mar-2019    low_risk          n  31.44  ...   \n",
       "4        Not Verified  Mar-2019    low_risk          n  18.76  ...   \n",
       "\n",
       "   pct_tl_nvr_dlq  percent_bc_gt_75  pub_rec_bankruptcies  tax_liens  \\\n",
       "0            85.7             100.0                   0.0        0.0   \n",
       "1            91.2              50.0                   1.0        0.0   \n",
       "2            66.7              50.0                   0.0        0.0   \n",
       "3           100.0              50.0                   1.0        0.0   \n",
       "4           100.0               0.0                   0.0        0.0   \n",
       "\n",
       "   tot_hi_cred_lim  total_bal_ex_mort total_bc_limit  \\\n",
       "0          65687.0            38199.0         2000.0   \n",
       "1         271427.0            60641.0        41200.0   \n",
       "2          60644.0            45684.0         7500.0   \n",
       "3          99506.0            68784.0        19700.0   \n",
       "4         219750.0            25919.0        27600.0   \n",
       "\n",
       "   total_il_high_credit_limit  hardship_flag  debt_settlement_flag  \n",
       "0                     61987.0              N                     N  \n",
       "1                     49197.0              N                     N  \n",
       "2                     43144.0              N                     N  \n",
       "3                     76506.0              N                     N  \n",
       "4                     20000.0              N                     N  \n",
       "\n",
       "[5 rows x 86 columns]"
      ]
     },
     "execution_count": 40,
     "metadata": {},
     "output_type": "execute_result"
    }
   ],
   "source": [
    "df.head()"
   ]
  },
  {
   "cell_type": "code",
   "execution_count": 41,
   "id": "fe3149cc-02d2-4669-b14b-b56c3ca22f45",
   "metadata": {},
   "outputs": [],
   "source": [
    "# Features prcessing them into numeric values:\n",
    "x = df.drop(columns = ['loan_status'])\n",
    "X =pd.get_dummies(x)"
   ]
  },
  {
   "cell_type": "code",
   "execution_count": 45,
   "id": "fdfc3fe2-d8bf-4c98-b2c5-39e8a447c183",
   "metadata": {},
   "outputs": [
    {
     "data": {
      "text/plain": [
       "0    low_risk\n",
       "1    low_risk\n",
       "2    low_risk\n",
       "3    low_risk\n",
       "4    low_risk\n",
       "Name: loan_status, dtype: object"
      ]
     },
     "execution_count": 45,
     "metadata": {},
     "output_type": "execute_result"
    }
   ],
   "source": [
    "# Target declaration:\n",
    "y = df['loan_status']\n",
    "y.head()"
   ]
  },
  {
   "cell_type": "code",
   "execution_count": 43,
   "id": "410b8462-3e4e-437d-8c53-d34690e4d055",
   "metadata": {},
   "outputs": [
    {
     "data": {
      "text/plain": [
       "low_risk     68470\n",
       "high_risk      347\n",
       "Name: loan_status, dtype: int64"
      ]
     },
     "execution_count": 43,
     "metadata": {},
     "output_type": "execute_result"
    }
   ],
   "source": [
    "y.value_counts()"
   ]
  },
  {
   "cell_type": "code",
   "execution_count": 44,
   "id": "deff656c-e1da-4769-bd32-22c299a40c59",
   "metadata": {},
   "outputs": [
    {
     "data": {
      "text/html": [
       "<div>\n",
       "<style scoped>\n",
       "    .dataframe tbody tr th:only-of-type {\n",
       "        vertical-align: middle;\n",
       "    }\n",
       "\n",
       "    .dataframe tbody tr th {\n",
       "        vertical-align: top;\n",
       "    }\n",
       "\n",
       "    .dataframe thead th {\n",
       "        text-align: right;\n",
       "    }\n",
       "</style>\n",
       "<table border=\"1\" class=\"dataframe\">\n",
       "  <thead>\n",
       "    <tr style=\"text-align: right;\">\n",
       "      <th></th>\n",
       "      <th>loan_amnt</th>\n",
       "      <th>int_rate</th>\n",
       "      <th>installment</th>\n",
       "      <th>annual_inc</th>\n",
       "      <th>dti</th>\n",
       "      <th>delinq_2yrs</th>\n",
       "      <th>inq_last_6mths</th>\n",
       "      <th>open_acc</th>\n",
       "      <th>pub_rec</th>\n",
       "      <th>revol_bal</th>\n",
       "      <th>...</th>\n",
       "      <th>issue_d_Mar-2019</th>\n",
       "      <th>pymnt_plan_n</th>\n",
       "      <th>initial_list_status_f</th>\n",
       "      <th>initial_list_status_w</th>\n",
       "      <th>next_pymnt_d_Apr-2019</th>\n",
       "      <th>next_pymnt_d_May-2019</th>\n",
       "      <th>application_type_Individual</th>\n",
       "      <th>application_type_Joint App</th>\n",
       "      <th>hardship_flag_N</th>\n",
       "      <th>debt_settlement_flag_N</th>\n",
       "    </tr>\n",
       "  </thead>\n",
       "  <tbody>\n",
       "    <tr>\n",
       "      <th>count</th>\n",
       "      <td>68817.000000</td>\n",
       "      <td>68817.000000</td>\n",
       "      <td>68817.000000</td>\n",
       "      <td>6.881700e+04</td>\n",
       "      <td>68817.000000</td>\n",
       "      <td>68817.000000</td>\n",
       "      <td>68817.000000</td>\n",
       "      <td>68817.000000</td>\n",
       "      <td>68817.000000</td>\n",
       "      <td>68817.000000</td>\n",
       "      <td>...</td>\n",
       "      <td>68817.000000</td>\n",
       "      <td>68817.0</td>\n",
       "      <td>68817.000000</td>\n",
       "      <td>68817.000000</td>\n",
       "      <td>68817.000000</td>\n",
       "      <td>68817.000000</td>\n",
       "      <td>68817.000000</td>\n",
       "      <td>68817.000000</td>\n",
       "      <td>68817.0</td>\n",
       "      <td>68817.0</td>\n",
       "    </tr>\n",
       "    <tr>\n",
       "      <th>mean</th>\n",
       "      <td>16677.594562</td>\n",
       "      <td>0.127718</td>\n",
       "      <td>480.652863</td>\n",
       "      <td>8.821371e+04</td>\n",
       "      <td>21.778153</td>\n",
       "      <td>0.217766</td>\n",
       "      <td>0.497697</td>\n",
       "      <td>12.587340</td>\n",
       "      <td>0.126030</td>\n",
       "      <td>17604.142828</td>\n",
       "      <td>...</td>\n",
       "      <td>0.177238</td>\n",
       "      <td>1.0</td>\n",
       "      <td>0.123879</td>\n",
       "      <td>0.876121</td>\n",
       "      <td>0.383161</td>\n",
       "      <td>0.616839</td>\n",
       "      <td>0.860340</td>\n",
       "      <td>0.139660</td>\n",
       "      <td>1.0</td>\n",
       "      <td>1.0</td>\n",
       "    </tr>\n",
       "    <tr>\n",
       "      <th>std</th>\n",
       "      <td>10277.348590</td>\n",
       "      <td>0.048130</td>\n",
       "      <td>288.062432</td>\n",
       "      <td>1.155800e+05</td>\n",
       "      <td>20.199244</td>\n",
       "      <td>0.718367</td>\n",
       "      <td>0.758122</td>\n",
       "      <td>6.022869</td>\n",
       "      <td>0.336797</td>\n",
       "      <td>21835.880400</td>\n",
       "      <td>...</td>\n",
       "      <td>0.381873</td>\n",
       "      <td>0.0</td>\n",
       "      <td>0.329446</td>\n",
       "      <td>0.329446</td>\n",
       "      <td>0.486161</td>\n",
       "      <td>0.486161</td>\n",
       "      <td>0.346637</td>\n",
       "      <td>0.346637</td>\n",
       "      <td>0.0</td>\n",
       "      <td>0.0</td>\n",
       "    </tr>\n",
       "    <tr>\n",
       "      <th>min</th>\n",
       "      <td>1000.000000</td>\n",
       "      <td>0.060000</td>\n",
       "      <td>30.890000</td>\n",
       "      <td>4.000000e+01</td>\n",
       "      <td>0.000000</td>\n",
       "      <td>0.000000</td>\n",
       "      <td>0.000000</td>\n",
       "      <td>2.000000</td>\n",
       "      <td>0.000000</td>\n",
       "      <td>0.000000</td>\n",
       "      <td>...</td>\n",
       "      <td>0.000000</td>\n",
       "      <td>1.0</td>\n",
       "      <td>0.000000</td>\n",
       "      <td>0.000000</td>\n",
       "      <td>0.000000</td>\n",
       "      <td>0.000000</td>\n",
       "      <td>0.000000</td>\n",
       "      <td>0.000000</td>\n",
       "      <td>1.0</td>\n",
       "      <td>1.0</td>\n",
       "    </tr>\n",
       "    <tr>\n",
       "      <th>25%</th>\n",
       "      <td>9000.000000</td>\n",
       "      <td>0.088100</td>\n",
       "      <td>265.730000</td>\n",
       "      <td>5.000000e+04</td>\n",
       "      <td>13.890000</td>\n",
       "      <td>0.000000</td>\n",
       "      <td>0.000000</td>\n",
       "      <td>8.000000</td>\n",
       "      <td>0.000000</td>\n",
       "      <td>6293.000000</td>\n",
       "      <td>...</td>\n",
       "      <td>0.000000</td>\n",
       "      <td>1.0</td>\n",
       "      <td>0.000000</td>\n",
       "      <td>1.000000</td>\n",
       "      <td>0.000000</td>\n",
       "      <td>0.000000</td>\n",
       "      <td>1.000000</td>\n",
       "      <td>0.000000</td>\n",
       "      <td>1.0</td>\n",
       "      <td>1.0</td>\n",
       "    </tr>\n",
       "    <tr>\n",
       "      <th>50%</th>\n",
       "      <td>15000.000000</td>\n",
       "      <td>0.118000</td>\n",
       "      <td>404.560000</td>\n",
       "      <td>7.300000e+04</td>\n",
       "      <td>19.760000</td>\n",
       "      <td>0.000000</td>\n",
       "      <td>0.000000</td>\n",
       "      <td>11.000000</td>\n",
       "      <td>0.000000</td>\n",
       "      <td>12068.000000</td>\n",
       "      <td>...</td>\n",
       "      <td>0.000000</td>\n",
       "      <td>1.0</td>\n",
       "      <td>0.000000</td>\n",
       "      <td>1.000000</td>\n",
       "      <td>0.000000</td>\n",
       "      <td>1.000000</td>\n",
       "      <td>1.000000</td>\n",
       "      <td>0.000000</td>\n",
       "      <td>1.0</td>\n",
       "      <td>1.0</td>\n",
       "    </tr>\n",
       "    <tr>\n",
       "      <th>75%</th>\n",
       "      <td>24000.000000</td>\n",
       "      <td>0.155700</td>\n",
       "      <td>648.100000</td>\n",
       "      <td>1.040000e+05</td>\n",
       "      <td>26.660000</td>\n",
       "      <td>0.000000</td>\n",
       "      <td>1.000000</td>\n",
       "      <td>16.000000</td>\n",
       "      <td>0.000000</td>\n",
       "      <td>21735.000000</td>\n",
       "      <td>...</td>\n",
       "      <td>0.000000</td>\n",
       "      <td>1.0</td>\n",
       "      <td>0.000000</td>\n",
       "      <td>1.000000</td>\n",
       "      <td>1.000000</td>\n",
       "      <td>1.000000</td>\n",
       "      <td>1.000000</td>\n",
       "      <td>0.000000</td>\n",
       "      <td>1.0</td>\n",
       "      <td>1.0</td>\n",
       "    </tr>\n",
       "    <tr>\n",
       "      <th>max</th>\n",
       "      <td>40000.000000</td>\n",
       "      <td>0.308400</td>\n",
       "      <td>1676.230000</td>\n",
       "      <td>8.797500e+06</td>\n",
       "      <td>999.000000</td>\n",
       "      <td>18.000000</td>\n",
       "      <td>5.000000</td>\n",
       "      <td>72.000000</td>\n",
       "      <td>4.000000</td>\n",
       "      <td>587191.000000</td>\n",
       "      <td>...</td>\n",
       "      <td>1.000000</td>\n",
       "      <td>1.0</td>\n",
       "      <td>1.000000</td>\n",
       "      <td>1.000000</td>\n",
       "      <td>1.000000</td>\n",
       "      <td>1.000000</td>\n",
       "      <td>1.000000</td>\n",
       "      <td>1.000000</td>\n",
       "      <td>1.0</td>\n",
       "      <td>1.0</td>\n",
       "    </tr>\n",
       "  </tbody>\n",
       "</table>\n",
       "<p>8 rows × 95 columns</p>\n",
       "</div>"
      ],
      "text/plain": [
       "          loan_amnt      int_rate   installment    annual_inc           dti  \\\n",
       "count  68817.000000  68817.000000  68817.000000  6.881700e+04  68817.000000   \n",
       "mean   16677.594562      0.127718    480.652863  8.821371e+04     21.778153   \n",
       "std    10277.348590      0.048130    288.062432  1.155800e+05     20.199244   \n",
       "min     1000.000000      0.060000     30.890000  4.000000e+01      0.000000   \n",
       "25%     9000.000000      0.088100    265.730000  5.000000e+04     13.890000   \n",
       "50%    15000.000000      0.118000    404.560000  7.300000e+04     19.760000   \n",
       "75%    24000.000000      0.155700    648.100000  1.040000e+05     26.660000   \n",
       "max    40000.000000      0.308400   1676.230000  8.797500e+06    999.000000   \n",
       "\n",
       "        delinq_2yrs  inq_last_6mths      open_acc       pub_rec  \\\n",
       "count  68817.000000    68817.000000  68817.000000  68817.000000   \n",
       "mean       0.217766        0.497697     12.587340      0.126030   \n",
       "std        0.718367        0.758122      6.022869      0.336797   \n",
       "min        0.000000        0.000000      2.000000      0.000000   \n",
       "25%        0.000000        0.000000      8.000000      0.000000   \n",
       "50%        0.000000        0.000000     11.000000      0.000000   \n",
       "75%        0.000000        1.000000     16.000000      0.000000   \n",
       "max       18.000000        5.000000     72.000000      4.000000   \n",
       "\n",
       "           revol_bal  ...  issue_d_Mar-2019  pymnt_plan_n  \\\n",
       "count   68817.000000  ...      68817.000000       68817.0   \n",
       "mean    17604.142828  ...          0.177238           1.0   \n",
       "std     21835.880400  ...          0.381873           0.0   \n",
       "min         0.000000  ...          0.000000           1.0   \n",
       "25%      6293.000000  ...          0.000000           1.0   \n",
       "50%     12068.000000  ...          0.000000           1.0   \n",
       "75%     21735.000000  ...          0.000000           1.0   \n",
       "max    587191.000000  ...          1.000000           1.0   \n",
       "\n",
       "       initial_list_status_f  initial_list_status_w  next_pymnt_d_Apr-2019  \\\n",
       "count           68817.000000           68817.000000           68817.000000   \n",
       "mean                0.123879               0.876121               0.383161   \n",
       "std                 0.329446               0.329446               0.486161   \n",
       "min                 0.000000               0.000000               0.000000   \n",
       "25%                 0.000000               1.000000               0.000000   \n",
       "50%                 0.000000               1.000000               0.000000   \n",
       "75%                 0.000000               1.000000               1.000000   \n",
       "max                 1.000000               1.000000               1.000000   \n",
       "\n",
       "       next_pymnt_d_May-2019  application_type_Individual  \\\n",
       "count           68817.000000                 68817.000000   \n",
       "mean                0.616839                     0.860340   \n",
       "std                 0.486161                     0.346637   \n",
       "min                 0.000000                     0.000000   \n",
       "25%                 0.000000                     1.000000   \n",
       "50%                 1.000000                     1.000000   \n",
       "75%                 1.000000                     1.000000   \n",
       "max                 1.000000                     1.000000   \n",
       "\n",
       "       application_type_Joint App  hardship_flag_N  debt_settlement_flag_N  \n",
       "count                68817.000000          68817.0                 68817.0  \n",
       "mean                     0.139660              1.0                     1.0  \n",
       "std                      0.346637              0.0                     0.0  \n",
       "min                      0.000000              1.0                     1.0  \n",
       "25%                      0.000000              1.0                     1.0  \n",
       "50%                      0.000000              1.0                     1.0  \n",
       "75%                      0.000000              1.0                     1.0  \n",
       "max                      1.000000              1.0                     1.0  \n",
       "\n",
       "[8 rows x 95 columns]"
      ]
     },
     "execution_count": 44,
     "metadata": {},
     "output_type": "execute_result"
    }
   ],
   "source": [
    "X.describe()"
   ]
  },
  {
   "cell_type": "markdown",
   "id": "902728d3-f96d-4143-875c-ccf3dbc7a8f7",
   "metadata": {},
   "source": [
    "## Splitting Data"
   ]
  },
  {
   "cell_type": "code",
   "execution_count": 46,
   "id": "68707b6c-93b2-4ae9-b31d-d27eccef3132",
   "metadata": {},
   "outputs": [],
   "source": [
    "# Splitting the data into training and testing data sets:\n",
    "from sklearn.model_selection import train_test_split\n",
    "X_train,X_test,y_train,y_test = train_test_split(X,y,random_state=1,stratify = y)"
   ]
  },
  {
   "cell_type": "code",
   "execution_count": 47,
   "id": "3b6d9fb6-e1a9-4cd0-8c2d-dc1d92d7b9a8",
   "metadata": {},
   "outputs": [
    {
     "data": {
      "text/plain": [
       "Counter({'low_risk': 51352, 'high_risk': 260})"
      ]
     },
     "execution_count": 47,
     "metadata": {},
     "output_type": "execute_result"
    }
   ],
   "source": [
    "Counter(y_train)"
   ]
  },
  {
   "cell_type": "markdown",
   "id": "6465ca8b-6232-4d50-b5c2-df2a88ba08e8",
   "metadata": {},
   "source": [
    "## Scaling"
   ]
  },
  {
   "cell_type": "code",
   "execution_count": 48,
   "id": "2c3f3fbb-256d-46b7-b6db-b3b6359a932f",
   "metadata": {},
   "outputs": [],
   "source": [
    "# Scaling the features training and testing data sets:\n",
    "from sklearn.preprocessing import StandardScaler\n",
    "scaler = StandardScaler()"
   ]
  },
  {
   "cell_type": "code",
   "execution_count": 13,
   "id": "8f41856e-b1f3-47f4-ade0-e1843cf61770",
   "metadata": {},
   "outputs": [],
   "source": [
    "x_scaler = scaler.fit(X_train)"
   ]
  },
  {
   "cell_type": "code",
   "execution_count": 14,
   "id": "753ce7ec-84c5-422d-8e00-aae3d3d1a3e7",
   "metadata": {},
   "outputs": [],
   "source": [
    "X_train_scaled = x_scaler.transform(X_train)\n",
    "X_test_scaled = x_scaler.transform(X_test)"
   ]
  },
  {
   "cell_type": "markdown",
   "id": "9ecbc77e-b3d7-45be-9250-3a6cbc80ed76",
   "metadata": {},
   "source": [
    "## Balanced Random-Forest Classifier"
   ]
  },
  {
   "cell_type": "code",
   "execution_count": 53,
   "id": "0327d64c-41e5-485e-8c36-8b0f5eb22522",
   "metadata": {},
   "outputs": [],
   "source": [
    "# Instantiating the model:\n",
    "from imbalanced_ensemble.ensemble import BalancedRandomForestClassifier\n",
    "model = BalancedRandomForestClassifier(random_state=1)"
   ]
  },
  {
   "cell_type": "code",
   "execution_count": 54,
   "id": "b92905c2-49b1-4d8d-b7e5-ae05dbb69ce7",
   "metadata": {},
   "outputs": [
    {
     "data": {
      "text/plain": [
       "BalancedRandomForestClassifier(random_state=1)"
      ]
     },
     "execution_count": 54,
     "metadata": {},
     "output_type": "execute_result"
    }
   ],
   "source": [
    "# fitting the model:\n",
    "model.fit(X_train_scaled,y_train)"
   ]
  },
  {
   "cell_type": "code",
   "execution_count": 55,
   "id": "51bcc909-53ac-4e6a-a64d-835b600dfe47",
   "metadata": {},
   "outputs": [],
   "source": [
    "# Making predictions:\n",
    "pred = model.predict(X_test_scaled)"
   ]
  },
  {
   "cell_type": "markdown",
   "id": "c82870f6-73ec-4e6a-9e72-7820352f2edf",
   "metadata": {},
   "source": [
    "## Model Evaluation"
   ]
  },
  {
   "cell_type": "code",
   "execution_count": 22,
   "id": "637da87d-81bf-4ef1-97db-13a106775d93",
   "metadata": {},
   "outputs": [
    {
     "data": {
      "text/plain": [
       "0.7722210135731293"
      ]
     },
     "execution_count": 22,
     "metadata": {},
     "output_type": "execute_result"
    }
   ],
   "source": [
    "balanced_accuracy_score(y_test,pred)"
   ]
  },
  {
   "cell_type": "code",
   "execution_count": 23,
   "id": "c40f019e-7cab-4f5d-bdab-bc99441e7bee",
   "metadata": {},
   "outputs": [
    {
     "data": {
      "text/plain": [
       "array([[   59,    28],\n",
       "       [ 2289, 14829]], dtype=int64)"
      ]
     },
     "execution_count": 23,
     "metadata": {},
     "output_type": "execute_result"
    }
   ],
   "source": [
    "confusion_matrix(y_test,pred)"
   ]
  },
  {
   "cell_type": "code",
   "execution_count": 24,
   "id": "2f919156-54a0-43c3-9c9b-e56cfa70a9d0",
   "metadata": {},
   "outputs": [
    {
     "name": "stdout",
     "output_type": "stream",
     "text": [
      "                   pre       rec       spe        f1       geo       iba       sup\n",
      "\n",
      "  high_risk     0.0251    0.6782    0.8663    0.0485    0.7665    0.5764        87\n",
      "   low_risk     0.9981    0.8663    0.6782    0.9275    0.7665    0.5985     17118\n",
      "\n",
      "avg / total     0.9932    0.8653    0.6791    0.9231    0.7665    0.5984     17205\n",
      "\n"
     ]
    }
   ],
   "source": [
    "print(classification_report_imbalanced(y_test,pred,digits=4))"
   ]
  },
  {
   "cell_type": "markdown",
   "id": "91a3e605-4ed1-4ea3-a5d4-dd70c6f9d0d1",
   "metadata": {},
   "source": [
    "## Feature Importance"
   ]
  },
  {
   "cell_type": "code",
   "execution_count": 25,
   "id": "140aab2b-e008-4626-bf6b-d8d0db5e5ddb",
   "metadata": {},
   "outputs": [
    {
     "data": {
      "text/plain": [
       "[(0.07340741376094133, 'total_rec_prncp'),\n",
       " (0.0626679371613617, 'total_pymnt_inv'),\n",
       " (0.060804486949464866, 'total_rec_int'),\n",
       " (0.054658049692753966, 'total_pymnt'),\n",
       " (0.048957089525894226, 'last_pymnt_amnt'),\n",
       " (0.02721643660808297, 'int_rate'),\n",
       " (0.02119053833148393, 'out_prncp'),\n",
       " (0.02044653475974467, 'mths_since_recent_inq'),\n",
       " (0.019865475845739, 'max_bal_bc'),\n",
       " (0.01895550633373847, 'bc_util'),\n",
       " (0.018537353981094084, 'installment'),\n",
       " (0.017137661662797662, 'dti'),\n",
       " (0.016919756507266827, 'total_bc_limit'),\n",
       " (0.016374212643895065, 'revol_bal'),\n",
       " (0.016134524156450888, 'issue_d_Jan-2019'),\n",
       " (0.014488886755441736, 'total_bal_ex_mort'),\n",
       " (0.014356099474616467, 'avg_cur_bal'),\n",
       " (0.014174303655222842, 'annual_inc'),\n",
       " (0.013655785543463079, 'mths_since_rcnt_il'),\n",
       " (0.013600666626181597, 'out_prncp_inv'),\n",
       " (0.013513760875056995, 'tot_cur_bal'),\n",
       " (0.01331266920013072, 'mo_sin_old_il_acct'),\n",
       " (0.013166157318349808, 'all_util'),\n",
       " (0.012929286039201777, 'issue_d_Mar-2019'),\n",
       " (0.01273012376738467, 'tot_hi_cred_lim'),\n",
       " (0.012725648203370661, 'mo_sin_old_rev_tl_op'),\n",
       " (0.01262000428660686, 'bc_open_to_buy'),\n",
       " (0.012378770618582755, 'mo_sin_rcnt_rev_tl_op'),\n",
       " (0.012125502337871042, 'total_bal_il'),\n",
       " (0.011445821263784302, 'mths_since_recent_bc'),\n",
       " (0.011405784699975918, 'total_il_high_credit_limit'),\n",
       " (0.011205687635091666, 'num_rev_accts'),\n",
       " (0.011147349191424622, 'il_util'),\n",
       " (0.010924130040449155, 'total_rev_hi_lim'),\n",
       " (0.01081423970154186, 'num_op_rev_tl'),\n",
       " (0.010729117327899253, 'inq_last_12m'),\n",
       " (0.01026905980092919, 'loan_amnt'),\n",
       " (0.009843352554946335, 'pct_tl_nvr_dlq'),\n",
       " (0.009777713335547202, 'total_acc'),\n",
       " (0.008791283826242708, 'open_acc'),\n",
       " (0.008779630212644817, 'percent_bc_gt_75'),\n",
       " (0.00859781562044679, 'num_rev_tl_bal_gt_0'),\n",
       " (0.008497258122022046, 'num_bc_tl'),\n",
       " (0.008320157491322769, 'num_actv_rev_tl'),\n",
       " (0.008203863529948886, 'mort_acc'),\n",
       " (0.00807801666045876, 'num_sats'),\n",
       " (0.007904534572253397, 'open_rv_24m'),\n",
       " (0.0077401456750806966, 'num_actv_bc_tl'),\n",
       " (0.007456867004915638, 'open_il_24m'),\n",
       " (0.007411487952615365, 'open_act_il'),\n",
       " (0.0074103552876741445, 'num_il_tl'),\n",
       " (0.007324504445761303, 'total_cu_tl'),\n",
       " (0.006912202014808189, 'mo_sin_rcnt_tl'),\n",
       " (0.006726347626829119, 'open_acc_6m'),\n",
       " (0.006531901486051179, 'open_il_12m'),\n",
       " (0.006390881615570037, 'num_bc_sats'),\n",
       " (0.00623734601511399, 'num_tl_op_past_12m'),\n",
       " (0.006211995352441355, 'inq_fi'),\n",
       " (0.0061034731228739834, 'open_rv_12m'),\n",
       " (0.005730387400221114, 'next_pymnt_d_Apr-2019'),\n",
       " (0.005500247627147363, 'acc_open_past_24mths'),\n",
       " (0.00505005312295922, 'delinq_2yrs'),\n",
       " (0.004897872505754642, 'issue_d_Feb-2019'),\n",
       " (0.0048648679569704475, 'total_rec_late_fee'),\n",
       " (0.004421977592699881, 'tot_coll_amt'),\n",
       " (0.004148934585384779, 'next_pymnt_d_May-2019'),\n",
       " (0.003952803457935792, 'inq_last_6mths'),\n",
       " (0.0033139992551219103, 'num_accts_ever_120_pd'),\n",
       " (0.0023639758076790633, 'verification_status_Verified'),\n",
       " (0.0021565355854880953, 'verification_status_Not Verified'),\n",
       " (0.002134786893258826, 'home_ownership_RENT'),\n",
       " (0.00212303442204788, 'home_ownership_MORTGAGE'),\n",
       " (0.0020237895599596657, 'verification_status_Source Verified'),\n",
       " (0.0019901853566549345, 'pub_rec'),\n",
       " (0.001862453161000344, 'home_ownership_OWN'),\n",
       " (0.0017188121315141148, 'pub_rec_bankruptcies'),\n",
       " (0.001539877970712007, 'initial_list_status_f'),\n",
       " (0.0010381158258416247, 'application_type_Individual'),\n",
       " (0.0009291049235595289, 'collections_12_mths_ex_med'),\n",
       " (0.0008862276237783167, 'num_tl_90g_dpd_24m'),\n",
       " (0.000555189453489059, 'initial_list_status_w'),\n",
       " (0.0004205939566348796, 'application_type_Joint App'),\n",
       " (0.00013320801533121788, 'home_ownership_ANY'),\n",
       " (0.0, 'tax_liens'),\n",
       " (0.0, 'recoveries'),\n",
       " (0.0, 'pymnt_plan_n'),\n",
       " (0.0, 'policy_code'),\n",
       " (0.0, 'num_tl_30dpd'),\n",
       " (0.0, 'num_tl_120dpd_2m'),\n",
       " (0.0, 'hardship_flag_N'),\n",
       " (0.0, 'delinq_amnt'),\n",
       " (0.0, 'debt_settlement_flag_N'),\n",
       " (0.0, 'collection_recovery_fee'),\n",
       " (0.0, 'chargeoff_within_12_mths'),\n",
       " (0.0, 'acc_now_delinq')]"
      ]
     },
     "execution_count": 25,
     "metadata": {},
     "output_type": "execute_result"
    }
   ],
   "source": [
    "sorted(zip(model.feature_importances_,X.columns),reverse=True)"
   ]
  },
  {
   "cell_type": "markdown",
   "id": "c083046e-8a01-40c9-82aa-742c9006ca8f",
   "metadata": {},
   "source": [
    "## Easy ensemble calssifier"
   ]
  },
  {
   "cell_type": "code",
   "execution_count": 57,
   "id": "3ea1bdcd-f19f-4f5d-a616-c2e6870505cb",
   "metadata": {},
   "outputs": [],
   "source": [
    "# Instantiating the model:\n",
    "from imbalanced_ensemble.ensemble import EasyEnsembleClassifier\n",
    "eec = EasyEnsembleClassifier(n_estimators=100,random_state=1)"
   ]
  },
  {
   "cell_type": "code",
   "execution_count": 58,
   "id": "30544207-1d24-4f78-8b91-ecf2de35c412",
   "metadata": {},
   "outputs": [
    {
     "data": {
      "text/plain": [
       "EasyEnsembleClassifier(base_estimator=AdaBoostClassifier(n_estimators=10),\n",
       "                       n_estimators=100, random_state=1)"
      ]
     },
     "execution_count": 58,
     "metadata": {},
     "output_type": "execute_result"
    }
   ],
   "source": [
    "# Fitting the model :\n",
    "eec.fit(X_train_scaled,y_train)"
   ]
  },
  {
   "cell_type": "code",
   "execution_count": 59,
   "id": "8da1add9-4be5-4f6b-afdf-d49f6c3e76c4",
   "metadata": {},
   "outputs": [],
   "source": [
    "# Making Predictions:\n",
    "eec_pred = eec.predict(X_test_scaled)"
   ]
  },
  {
   "cell_type": "markdown",
   "id": "97c0ed29-8ba9-4baa-aa59-76d1012e3eae",
   "metadata": {},
   "source": [
    "## Model Evaluation:"
   ]
  },
  {
   "cell_type": "code",
   "execution_count": 32,
   "id": "60e08cc3-dd09-422e-93db-e0ce21e532c4",
   "metadata": {},
   "outputs": [
    {
     "data": {
      "text/plain": [
       "0.8524672556816579"
      ]
     },
     "execution_count": 32,
     "metadata": {},
     "output_type": "execute_result"
    }
   ],
   "source": [
    "balanced_accuracy_score(y_test,eec_pred)"
   ]
  },
  {
   "cell_type": "code",
   "execution_count": 33,
   "id": "0d1c1fb9-259f-4725-9bab-ab062261c13f",
   "metadata": {},
   "outputs": [
    {
     "data": {
      "text/plain": [
       "array([[   66,    21],\n",
       "       [  919, 16199]], dtype=int64)"
      ]
     },
     "execution_count": 33,
     "metadata": {},
     "output_type": "execute_result"
    }
   ],
   "source": [
    "confusion_matrix(y_test,eec_pred)"
   ]
  },
  {
   "cell_type": "code",
   "execution_count": 34,
   "id": "c8c5f173-bf88-4577-809f-4dcf41d18583",
   "metadata": {},
   "outputs": [
    {
     "name": "stdout",
     "output_type": "stream",
     "text": [
      "                   pre       rec       spe        f1       geo       iba       sup\n",
      "\n",
      "  high_risk       0.07      0.76      0.95      0.12      0.85      0.70        87\n",
      "   low_risk       1.00      0.95      0.76      0.97      0.85      0.73     17118\n",
      "\n",
      "avg / total       0.99      0.95      0.76      0.97      0.85      0.73     17205\n",
      "\n"
     ]
    }
   ],
   "source": [
    "print(classification_report_imbalanced(y_test,eec_pred))"
   ]
  },
  {
   "cell_type": "markdown",
   "id": "8527dda7-b890-4f31-8fa0-d7467a5c194b",
   "metadata": {
    "tags": []
   },
   "source": [
    "#### Q-1: Best accuracy score ?"
   ]
  },
  {
   "cell_type": "code",
   "execution_count": null,
   "id": "1534145b-3d87-4c0f-a6cd-e9b02e5b27a8",
   "metadata": {},
   "outputs": [],
   "source": [
    "# eec\n",
    "# accuracy = 0.85"
   ]
  },
  {
   "cell_type": "markdown",
   "id": "48dffa1d-5199-49d5-9548-32bcee141dde",
   "metadata": {},
   "source": [
    "#### Q-2: Best recall ?"
   ]
  },
  {
   "cell_type": "code",
   "execution_count": null,
   "id": "02f67237-11bd-4f40-a02e-b2671f02ba8d",
   "metadata": {},
   "outputs": [],
   "source": [
    "# eec\n",
    "# 0.95"
   ]
  },
  {
   "cell_type": "markdown",
   "id": "87544758-8c66-4ae7-a25c-712beaf48a38",
   "metadata": {},
   "source": [
    "#### Q-3: Best geometric mean score ?"
   ]
  },
  {
   "cell_type": "code",
   "execution_count": 35,
   "id": "238af8c7-078e-4ca7-aaaf-86d267a9eddb",
   "metadata": {},
   "outputs": [],
   "source": [
    "# eec\n",
    "# 0.85"
   ]
  },
  {
   "cell_type": "markdown",
   "id": "6426c271-02ce-4375-ae9b-3bc955fa6761",
   "metadata": {},
   "source": [
    "#### Q-4: Top 3 Features?"
   ]
  },
  {
   "cell_type": "code",
   "execution_count": 36,
   "id": "3c639282-2ff5-47e8-9f4b-bff200e90867",
   "metadata": {},
   "outputs": [],
   "source": [
    "# The top three features for the Balanced Random Forest Classifer are total_rec_prncp (7.34%), total_payment_inv(6.26%), and total_rec_int (6.08%)"
   ]
  }
 ],
 "metadata": {
  "kernelspec": {
   "display_name": "Python 3 (ipykernel)",
   "language": "python",
   "name": "python3"
  },
  "language_info": {
   "codemirror_mode": {
    "name": "ipython",
    "version": 3
   },
   "file_extension": ".py",
   "mimetype": "text/x-python",
   "name": "python",
   "nbconvert_exporter": "python",
   "pygments_lexer": "ipython3",
   "version": "3.9.12"
  }
 },
 "nbformat": 4,
 "nbformat_minor": 5
}
