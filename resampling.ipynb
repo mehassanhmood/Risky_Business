{
 "cells": [
  {
   "cell_type": "markdown",
   "id": "fa32270c-f6e4-4363-a226-dd58707c21ca",
   "metadata": {},
   "source": [
    "## Imports :"
   ]
  },
  {
   "cell_type": "code",
   "execution_count": 1,
   "id": "eadbd2d2-1cab-4e17-9300-1e726923fdbd",
   "metadata": {},
   "outputs": [],
   "source": [
    "# importing libraries and dependencies:\n",
    "import warnings\n",
    "warnings.filterwarnings('ignore')"
   ]
  },
  {
   "cell_type": "code",
   "execution_count": 2,
   "id": "196b7d7f-0305-477a-9934-c00bae70b7fc",
   "metadata": {},
   "outputs": [],
   "source": [
    "import numpy as np\n",
    "import pandas as pd\n",
    "from pathlib import Path\n",
    "from collections import Counter"
   ]
  },
  {
   "cell_type": "markdown",
   "id": "e692e08f-75d8-4f2a-9a23-89684f3b9727",
   "metadata": {},
   "source": [
    "## Data Processing :"
   ]
  },
  {
   "cell_type": "code",
   "execution_count": 3,
   "id": "affb0046-45ae-409b-8529-a59ad8b11590",
   "metadata": {},
   "outputs": [],
   "source": [
    "# retreiving the data :\n",
    "df = pd.read_csv('lending_data.csv')"
   ]
  },
  {
   "cell_type": "code",
   "execution_count": 67,
   "id": "5321a9e3-3c87-433b-8933-eb370461b036",
   "metadata": {},
   "outputs": [
    {
     "data": {
      "text/html": [
       "<div>\n",
       "<style scoped>\n",
       "    .dataframe tbody tr th:only-of-type {\n",
       "        vertical-align: middle;\n",
       "    }\n",
       "\n",
       "    .dataframe tbody tr th {\n",
       "        vertical-align: top;\n",
       "    }\n",
       "\n",
       "    .dataframe thead th {\n",
       "        text-align: right;\n",
       "    }\n",
       "</style>\n",
       "<table border=\"1\" class=\"dataframe\">\n",
       "  <thead>\n",
       "    <tr style=\"text-align: right;\">\n",
       "      <th></th>\n",
       "      <th>loan_size</th>\n",
       "      <th>interest_rate</th>\n",
       "      <th>homeowner</th>\n",
       "      <th>borrower_income</th>\n",
       "      <th>debt_to_income</th>\n",
       "      <th>num_of_accounts</th>\n",
       "      <th>derogatory_marks</th>\n",
       "      <th>total_debt</th>\n",
       "      <th>loan_status</th>\n",
       "    </tr>\n",
       "  </thead>\n",
       "  <tbody>\n",
       "    <tr>\n",
       "      <th>0</th>\n",
       "      <td>10700.0</td>\n",
       "      <td>7.672</td>\n",
       "      <td>own</td>\n",
       "      <td>52800</td>\n",
       "      <td>0.431818</td>\n",
       "      <td>5</td>\n",
       "      <td>1</td>\n",
       "      <td>22800</td>\n",
       "      <td>low_risk</td>\n",
       "    </tr>\n",
       "    <tr>\n",
       "      <th>1</th>\n",
       "      <td>8400.0</td>\n",
       "      <td>6.692</td>\n",
       "      <td>own</td>\n",
       "      <td>43600</td>\n",
       "      <td>0.311927</td>\n",
       "      <td>3</td>\n",
       "      <td>0</td>\n",
       "      <td>13600</td>\n",
       "      <td>low_risk</td>\n",
       "    </tr>\n",
       "    <tr>\n",
       "      <th>2</th>\n",
       "      <td>9000.0</td>\n",
       "      <td>6.963</td>\n",
       "      <td>rent</td>\n",
       "      <td>46100</td>\n",
       "      <td>0.349241</td>\n",
       "      <td>3</td>\n",
       "      <td>0</td>\n",
       "      <td>16100</td>\n",
       "      <td>low_risk</td>\n",
       "    </tr>\n",
       "    <tr>\n",
       "      <th>3</th>\n",
       "      <td>10700.0</td>\n",
       "      <td>7.664</td>\n",
       "      <td>own</td>\n",
       "      <td>52700</td>\n",
       "      <td>0.430740</td>\n",
       "      <td>5</td>\n",
       "      <td>1</td>\n",
       "      <td>22700</td>\n",
       "      <td>low_risk</td>\n",
       "    </tr>\n",
       "    <tr>\n",
       "      <th>4</th>\n",
       "      <td>10800.0</td>\n",
       "      <td>7.698</td>\n",
       "      <td>mortgage</td>\n",
       "      <td>53000</td>\n",
       "      <td>0.433962</td>\n",
       "      <td>5</td>\n",
       "      <td>1</td>\n",
       "      <td>23000</td>\n",
       "      <td>low_risk</td>\n",
       "    </tr>\n",
       "  </tbody>\n",
       "</table>\n",
       "</div>"
      ],
      "text/plain": [
       "   loan_size  interest_rate homeowner  borrower_income  debt_to_income  \\\n",
       "0    10700.0          7.672       own            52800        0.431818   \n",
       "1     8400.0          6.692       own            43600        0.311927   \n",
       "2     9000.0          6.963      rent            46100        0.349241   \n",
       "3    10700.0          7.664       own            52700        0.430740   \n",
       "4    10800.0          7.698  mortgage            53000        0.433962   \n",
       "\n",
       "   num_of_accounts  derogatory_marks  total_debt loan_status  \n",
       "0                5                 1       22800    low_risk  \n",
       "1                3                 0       13600    low_risk  \n",
       "2                3                 0       16100    low_risk  \n",
       "3                5                 1       22700    low_risk  \n",
       "4                5                 1       23000    low_risk  "
      ]
     },
     "execution_count": 67,
     "metadata": {},
     "output_type": "execute_result"
    }
   ],
   "source": [
    "df.head()"
   ]
  },
  {
   "cell_type": "code",
   "execution_count": 68,
   "id": "3292c933-feff-48c3-b4fd-ef5cf3b8ae37",
   "metadata": {},
   "outputs": [],
   "source": [
    "# Setting features:\n",
    "X = df.iloc[:,:-1]"
   ]
  },
  {
   "cell_type": "code",
   "execution_count": 69,
   "id": "84efeeaa-b5c9-4320-8716-ff8729214a36",
   "metadata": {},
   "outputs": [],
   "source": [
    "# Encoding the non-numeric feature:\n",
    "from sklearn.preprocessing import LabelEncoder\n",
    "label = LabelEncoder()"
   ]
  },
  {
   "cell_type": "code",
   "execution_count": 70,
   "id": "65110c01-eaf2-48a8-9f9e-08e9f81a4c66",
   "metadata": {},
   "outputs": [],
   "source": [
    "X['home_owner'] = label.fit_transform(X['homeowner']) "
   ]
  },
  {
   "cell_type": "code",
   "execution_count": 71,
   "id": "ac9fa6cd-787a-44a8-b7b7-605da5f93c41",
   "metadata": {},
   "outputs": [],
   "source": [
    "X = X.drop(columns = ['homeowner'])"
   ]
  },
  {
   "cell_type": "code",
   "execution_count": 72,
   "id": "1383d324-919b-449f-9c88-28c5b285f988",
   "metadata": {},
   "outputs": [
    {
     "data": {
      "text/html": [
       "<div>\n",
       "<style scoped>\n",
       "    .dataframe tbody tr th:only-of-type {\n",
       "        vertical-align: middle;\n",
       "    }\n",
       "\n",
       "    .dataframe tbody tr th {\n",
       "        vertical-align: top;\n",
       "    }\n",
       "\n",
       "    .dataframe thead th {\n",
       "        text-align: right;\n",
       "    }\n",
       "</style>\n",
       "<table border=\"1\" class=\"dataframe\">\n",
       "  <thead>\n",
       "    <tr style=\"text-align: right;\">\n",
       "      <th></th>\n",
       "      <th>loan_size</th>\n",
       "      <th>interest_rate</th>\n",
       "      <th>borrower_income</th>\n",
       "      <th>debt_to_income</th>\n",
       "      <th>num_of_accounts</th>\n",
       "      <th>derogatory_marks</th>\n",
       "      <th>total_debt</th>\n",
       "      <th>home_owner</th>\n",
       "    </tr>\n",
       "  </thead>\n",
       "  <tbody>\n",
       "    <tr>\n",
       "      <th>0</th>\n",
       "      <td>10700.0</td>\n",
       "      <td>7.672</td>\n",
       "      <td>52800</td>\n",
       "      <td>0.431818</td>\n",
       "      <td>5</td>\n",
       "      <td>1</td>\n",
       "      <td>22800</td>\n",
       "      <td>1</td>\n",
       "    </tr>\n",
       "    <tr>\n",
       "      <th>1</th>\n",
       "      <td>8400.0</td>\n",
       "      <td>6.692</td>\n",
       "      <td>43600</td>\n",
       "      <td>0.311927</td>\n",
       "      <td>3</td>\n",
       "      <td>0</td>\n",
       "      <td>13600</td>\n",
       "      <td>1</td>\n",
       "    </tr>\n",
       "    <tr>\n",
       "      <th>2</th>\n",
       "      <td>9000.0</td>\n",
       "      <td>6.963</td>\n",
       "      <td>46100</td>\n",
       "      <td>0.349241</td>\n",
       "      <td>3</td>\n",
       "      <td>0</td>\n",
       "      <td>16100</td>\n",
       "      <td>2</td>\n",
       "    </tr>\n",
       "    <tr>\n",
       "      <th>3</th>\n",
       "      <td>10700.0</td>\n",
       "      <td>7.664</td>\n",
       "      <td>52700</td>\n",
       "      <td>0.430740</td>\n",
       "      <td>5</td>\n",
       "      <td>1</td>\n",
       "      <td>22700</td>\n",
       "      <td>1</td>\n",
       "    </tr>\n",
       "    <tr>\n",
       "      <th>4</th>\n",
       "      <td>10800.0</td>\n",
       "      <td>7.698</td>\n",
       "      <td>53000</td>\n",
       "      <td>0.433962</td>\n",
       "      <td>5</td>\n",
       "      <td>1</td>\n",
       "      <td>23000</td>\n",
       "      <td>0</td>\n",
       "    </tr>\n",
       "  </tbody>\n",
       "</table>\n",
       "</div>"
      ],
      "text/plain": [
       "   loan_size  interest_rate  borrower_income  debt_to_income  num_of_accounts  \\\n",
       "0    10700.0          7.672            52800        0.431818                5   \n",
       "1     8400.0          6.692            43600        0.311927                3   \n",
       "2     9000.0          6.963            46100        0.349241                3   \n",
       "3    10700.0          7.664            52700        0.430740                5   \n",
       "4    10800.0          7.698            53000        0.433962                5   \n",
       "\n",
       "   derogatory_marks  total_debt  home_owner  \n",
       "0                 1       22800           1  \n",
       "1                 0       13600           1  \n",
       "2                 0       16100           2  \n",
       "3                 1       22700           1  \n",
       "4                 1       23000           0  "
      ]
     },
     "execution_count": 72,
     "metadata": {},
     "output_type": "execute_result"
    }
   ],
   "source": [
    "X.head()"
   ]
  },
  {
   "cell_type": "code",
   "execution_count": 73,
   "id": "ef871d53-721c-4277-93d5-f9723d6d7376",
   "metadata": {},
   "outputs": [],
   "source": [
    "# Setting the target\n",
    "y = df['loan_status']"
   ]
  },
  {
   "cell_type": "code",
   "execution_count": 74,
   "id": "d00a1646-ba15-4616-91ef-8e92da8dd11f",
   "metadata": {},
   "outputs": [
    {
     "data": {
      "text/plain": [
       "0         low_risk\n",
       "1         low_risk\n",
       "2         low_risk\n",
       "3         low_risk\n",
       "4         low_risk\n",
       "           ...    \n",
       "77531    high_risk\n",
       "77532    high_risk\n",
       "77533    high_risk\n",
       "77534    high_risk\n",
       "77535    high_risk\n",
       "Name: loan_status, Length: 77536, dtype: object"
      ]
     },
     "execution_count": 74,
     "metadata": {},
     "output_type": "execute_result"
    }
   ],
   "source": [
    "y"
   ]
  },
  {
   "cell_type": "code",
   "execution_count": 75,
   "id": "87f2faef-7741-4a5c-8f0f-013ee897abbc",
   "metadata": {},
   "outputs": [
    {
     "data": {
      "text/html": [
       "<div>\n",
       "<style scoped>\n",
       "    .dataframe tbody tr th:only-of-type {\n",
       "        vertical-align: middle;\n",
       "    }\n",
       "\n",
       "    .dataframe tbody tr th {\n",
       "        vertical-align: top;\n",
       "    }\n",
       "\n",
       "    .dataframe thead th {\n",
       "        text-align: right;\n",
       "    }\n",
       "</style>\n",
       "<table border=\"1\" class=\"dataframe\">\n",
       "  <thead>\n",
       "    <tr style=\"text-align: right;\">\n",
       "      <th></th>\n",
       "      <th>loan_size</th>\n",
       "      <th>interest_rate</th>\n",
       "      <th>borrower_income</th>\n",
       "      <th>debt_to_income</th>\n",
       "      <th>num_of_accounts</th>\n",
       "      <th>derogatory_marks</th>\n",
       "      <th>total_debt</th>\n",
       "      <th>home_owner</th>\n",
       "    </tr>\n",
       "  </thead>\n",
       "  <tbody>\n",
       "    <tr>\n",
       "      <th>count</th>\n",
       "      <td>77536.000000</td>\n",
       "      <td>77536.000000</td>\n",
       "      <td>77536.000000</td>\n",
       "      <td>77536.000000</td>\n",
       "      <td>77536.000000</td>\n",
       "      <td>77536.000000</td>\n",
       "      <td>77536.000000</td>\n",
       "      <td>77536.000000</td>\n",
       "    </tr>\n",
       "    <tr>\n",
       "      <th>mean</th>\n",
       "      <td>9805.562577</td>\n",
       "      <td>7.292333</td>\n",
       "      <td>49221.949804</td>\n",
       "      <td>0.377318</td>\n",
       "      <td>3.826610</td>\n",
       "      <td>0.392308</td>\n",
       "      <td>19221.949804</td>\n",
       "      <td>0.606144</td>\n",
       "    </tr>\n",
       "    <tr>\n",
       "      <th>std</th>\n",
       "      <td>2093.223153</td>\n",
       "      <td>0.889495</td>\n",
       "      <td>8371.635077</td>\n",
       "      <td>0.081519</td>\n",
       "      <td>1.904426</td>\n",
       "      <td>0.582086</td>\n",
       "      <td>8371.635077</td>\n",
       "      <td>0.667811</td>\n",
       "    </tr>\n",
       "    <tr>\n",
       "      <th>min</th>\n",
       "      <td>5000.000000</td>\n",
       "      <td>5.250000</td>\n",
       "      <td>30000.000000</td>\n",
       "      <td>0.000000</td>\n",
       "      <td>0.000000</td>\n",
       "      <td>0.000000</td>\n",
       "      <td>0.000000</td>\n",
       "      <td>0.000000</td>\n",
       "    </tr>\n",
       "    <tr>\n",
       "      <th>25%</th>\n",
       "      <td>8700.000000</td>\n",
       "      <td>6.825000</td>\n",
       "      <td>44800.000000</td>\n",
       "      <td>0.330357</td>\n",
       "      <td>3.000000</td>\n",
       "      <td>0.000000</td>\n",
       "      <td>14800.000000</td>\n",
       "      <td>0.000000</td>\n",
       "    </tr>\n",
       "    <tr>\n",
       "      <th>50%</th>\n",
       "      <td>9500.000000</td>\n",
       "      <td>7.172000</td>\n",
       "      <td>48100.000000</td>\n",
       "      <td>0.376299</td>\n",
       "      <td>4.000000</td>\n",
       "      <td>0.000000</td>\n",
       "      <td>18100.000000</td>\n",
       "      <td>1.000000</td>\n",
       "    </tr>\n",
       "    <tr>\n",
       "      <th>75%</th>\n",
       "      <td>10400.000000</td>\n",
       "      <td>7.528000</td>\n",
       "      <td>51400.000000</td>\n",
       "      <td>0.416342</td>\n",
       "      <td>4.000000</td>\n",
       "      <td>1.000000</td>\n",
       "      <td>21400.000000</td>\n",
       "      <td>1.000000</td>\n",
       "    </tr>\n",
       "    <tr>\n",
       "      <th>max</th>\n",
       "      <td>23800.000000</td>\n",
       "      <td>13.235000</td>\n",
       "      <td>105200.000000</td>\n",
       "      <td>0.714829</td>\n",
       "      <td>16.000000</td>\n",
       "      <td>3.000000</td>\n",
       "      <td>75200.000000</td>\n",
       "      <td>2.000000</td>\n",
       "    </tr>\n",
       "  </tbody>\n",
       "</table>\n",
       "</div>"
      ],
      "text/plain": [
       "          loan_size  interest_rate  borrower_income  debt_to_income  \\\n",
       "count  77536.000000   77536.000000     77536.000000    77536.000000   \n",
       "mean    9805.562577       7.292333     49221.949804        0.377318   \n",
       "std     2093.223153       0.889495      8371.635077        0.081519   \n",
       "min     5000.000000       5.250000     30000.000000        0.000000   \n",
       "25%     8700.000000       6.825000     44800.000000        0.330357   \n",
       "50%     9500.000000       7.172000     48100.000000        0.376299   \n",
       "75%    10400.000000       7.528000     51400.000000        0.416342   \n",
       "max    23800.000000      13.235000    105200.000000        0.714829   \n",
       "\n",
       "       num_of_accounts  derogatory_marks    total_debt    home_owner  \n",
       "count     77536.000000      77536.000000  77536.000000  77536.000000  \n",
       "mean          3.826610          0.392308  19221.949804      0.606144  \n",
       "std           1.904426          0.582086   8371.635077      0.667811  \n",
       "min           0.000000          0.000000      0.000000      0.000000  \n",
       "25%           3.000000          0.000000  14800.000000      0.000000  \n",
       "50%           4.000000          0.000000  18100.000000      1.000000  \n",
       "75%           4.000000          1.000000  21400.000000      1.000000  \n",
       "max          16.000000          3.000000  75200.000000      2.000000  "
      ]
     },
     "execution_count": 75,
     "metadata": {},
     "output_type": "execute_result"
    }
   ],
   "source": [
    "X.describe()"
   ]
  },
  {
   "cell_type": "code",
   "execution_count": 76,
   "id": "a4bfb6ac-a663-4e32-84bc-ba92b31e2c48",
   "metadata": {},
   "outputs": [
    {
     "data": {
      "text/plain": [
       "low_risk     75036\n",
       "high_risk     2500\n",
       "Name: loan_status, dtype: int64"
      ]
     },
     "execution_count": 76,
     "metadata": {},
     "output_type": "execute_result"
    }
   ],
   "source": [
    "y.value_counts()"
   ]
  },
  {
   "cell_type": "markdown",
   "id": "46cf9c4a-67f5-43d1-8591-5a540e9ddf3c",
   "metadata": {},
   "source": [
    "## Splitting Data :"
   ]
  },
  {
   "cell_type": "code",
   "execution_count": 77,
   "id": "013d7642-9109-4721-bd02-7910ef73212a",
   "metadata": {},
   "outputs": [],
   "source": [
    "# Splitting the data set into training and testings sets:\n",
    "from sklearn.model_selection import train_test_split\n",
    "X_train,X_test,y_train,y_test =train_test_split(X,y,random_state = 1)"
   ]
  },
  {
   "cell_type": "markdown",
   "id": "d792c0ef-b116-44e3-ae8b-573942082ab5",
   "metadata": {},
   "source": [
    "## Scaling :"
   ]
  },
  {
   "cell_type": "code",
   "execution_count": 78,
   "id": "dfcde293-c6e1-4b4d-a871-ad9a9991eb7a",
   "metadata": {},
   "outputs": [],
   "source": [
    "# Scaaling the features to prepare them to fit in the model :\n",
    "from sklearn.preprocessing import StandardScaler\n",
    "scaler = StandardScaler()"
   ]
  },
  {
   "cell_type": "code",
   "execution_count": 79,
   "id": "6baf7532-78c6-419b-a372-cba3e39ade02",
   "metadata": {},
   "outputs": [],
   "source": [
    "x_scaler =scaler.fit(X_train)"
   ]
  },
  {
   "cell_type": "code",
   "execution_count": 80,
   "id": "814887bc-0b21-424a-813b-0773bd918d9d",
   "metadata": {},
   "outputs": [],
   "source": [
    "x_train_scaled = x_scaler.transform(X_train)\n",
    "x_test_scaled = x_scaler.transform(X_test)"
   ]
  },
  {
   "cell_type": "markdown",
   "id": "1e105029-3687-4eae-b157-801f57532c20",
   "metadata": {},
   "source": [
    "## Logistic Regression :"
   ]
  },
  {
   "cell_type": "code",
   "execution_count": 81,
   "id": "bb1ba029-fbe9-4821-aa15-5acabc97e3f0",
   "metadata": {},
   "outputs": [],
   "source": [
    "#  Instantiating the model :\n",
    "from sklearn.linear_model import LogisticRegression\n",
    "model = LogisticRegression(solver = 'lbfgs' , random_state =1)"
   ]
  },
  {
   "cell_type": "code",
   "execution_count": 82,
   "id": "74d1c1dc-bf07-4f4d-bb3b-92d88b8d15ee",
   "metadata": {},
   "outputs": [
    {
     "data": {
      "text/plain": [
       "LogisticRegression(random_state=1)"
      ]
     },
     "execution_count": 82,
     "metadata": {},
     "output_type": "execute_result"
    }
   ],
   "source": [
    "model.fit(x_train_scaled,y_train)"
   ]
  },
  {
   "cell_type": "code",
   "execution_count": 83,
   "id": "cf5aaba6-0b89-4891-95f7-bd7aace23868",
   "metadata": {},
   "outputs": [],
   "source": [
    "# making predictions :\n",
    "predictions = model.predict(x_test_scaled)"
   ]
  },
  {
   "cell_type": "markdown",
   "id": "3a427bf1-696d-4a4a-93d0-96d7460eb954",
   "metadata": {
    "tags": []
   },
   "source": [
    "#### Evaluation of model :"
   ]
  },
  {
   "cell_type": "code",
   "execution_count": 21,
   "id": "340934ad-f088-474e-a6cd-0eaf3e93efc8",
   "metadata": {},
   "outputs": [
    {
     "data": {
      "text/plain": [
       "0.9889115309798473"
      ]
     },
     "execution_count": 21,
     "metadata": {},
     "output_type": "execute_result"
    }
   ],
   "source": [
    "from sklearn.metrics import balanced_accuracy_score , confusion_matrix\n",
    "balanced_accuracy_score(y_test,predictions)"
   ]
  },
  {
   "cell_type": "code",
   "execution_count": 22,
   "id": "313d4bd6-befc-4346-a29b-bcdd57279cbb",
   "metadata": {},
   "outputs": [
    {
     "name": "stdout",
     "output_type": "stream",
     "text": [
      "[[  609    10]\n",
      " [  113 18652]]\n"
     ]
    }
   ],
   "source": [
    "print(confusion_matrix(y_test,predictions))"
   ]
  },
  {
   "cell_type": "code",
   "execution_count": 111,
   "id": "1c7838f0-808c-46ea-8a50-26df35500549",
   "metadata": {},
   "outputs": [
    {
     "name": "stdout",
     "output_type": "stream",
     "text": [
      "                   pre       rec       spe        f1       geo       iba       sup\n",
      "\n",
      "  high_risk     0.8435    0.9838    0.9940    0.9083    0.9889    0.9769       619\n",
      "   low_risk     0.9995    0.9940    0.9838    0.9967    0.9889    0.9789     18765\n",
      "\n",
      "avg / total     0.9945    0.9937    0.9842    0.9939    0.9889    0.9788     19384\n",
      "\n"
     ]
    }
   ],
   "source": [
    "from imblearn.metrics import classification_report_imbalanced\n",
    "print(classification_report_imbalanced(y_test,predictions,digits=4))"
   ]
  },
  {
   "cell_type": "markdown",
   "id": "6e61549b-100a-4a74-abc8-53e536317b9d",
   "metadata": {},
   "source": [
    "## Over Sampling:"
   ]
  },
  {
   "cell_type": "code",
   "execution_count": 25,
   "id": "ac1ea5a1-1180-4a3a-91ee-8e635622f29d",
   "metadata": {},
   "outputs": [],
   "source": [
    "# Naive Random Over Sampling \n",
    "from imblearn.over_sampling import RandomOverSampler"
   ]
  },
  {
   "cell_type": "code",
   "execution_count": 84,
   "id": "3c8c95ff-b45f-425c-a2bd-a85f88eb792e",
   "metadata": {},
   "outputs": [],
   "source": [
    "# oversampling the sets :\n",
    "ros = RandomOverSampler(random_state=1)\n",
    "X_resampled, y_resampled = ros.fit_resample(x_train_scaled,y_train)"
   ]
  },
  {
   "cell_type": "code",
   "execution_count": 85,
   "id": "6d47de08-cd28-4314-a9de-ebcf20fb91ae",
   "metadata": {},
   "outputs": [
    {
     "data": {
      "text/plain": [
       "Counter({'low_risk': 56271, 'high_risk': 56271})"
      ]
     },
     "execution_count": 85,
     "metadata": {},
     "output_type": "execute_result"
    }
   ],
   "source": [
    "Counter(y_resampled)"
   ]
  },
  {
   "cell_type": "code",
   "execution_count": 86,
   "id": "37500292-50ea-4842-96bb-7839c6492e71",
   "metadata": {},
   "outputs": [
    {
     "data": {
      "text/plain": [
       "LogisticRegression(random_state=1)"
      ]
     },
     "execution_count": 86,
     "metadata": {},
     "output_type": "execute_result"
    }
   ],
   "source": [
    "# fitting the model with oversampled data sets :\n",
    "model.fit(X_resampled,y_resampled)"
   ]
  },
  {
   "cell_type": "code",
   "execution_count": 87,
   "id": "b0285684-3c2f-44d1-b01d-c062f5a7a9fe",
   "metadata": {},
   "outputs": [],
   "source": [
    "# making predictions :\n",
    "pred_resampled = model.predict(x_test_scaled)"
   ]
  },
  {
   "cell_type": "markdown",
   "id": "27922f6e-7e3d-4ad2-8e96-14e8439fb9ab",
   "metadata": {},
   "source": [
    "#### Evaluation :"
   ]
  },
  {
   "cell_type": "code",
   "execution_count": 88,
   "id": "54f06979-9d12-47d0-98a0-c264fc0a41fa",
   "metadata": {},
   "outputs": [
    {
     "data": {
      "text/plain": [
       "0.9934649587814939"
      ]
     },
     "execution_count": 88,
     "metadata": {},
     "output_type": "execute_result"
    }
   ],
   "source": [
    "# Evalauting the performance of model with over sampled data :\n",
    "balanced_accuracy_score(y_test , pred_resampled)"
   ]
  },
  {
   "cell_type": "code",
   "execution_count": 89,
   "id": "7f782b3a-ca38-445e-9329-8d6f7c976298",
   "metadata": {},
   "outputs": [
    {
     "data": {
      "text/plain": [
       "array([[  615,     4],\n",
       "       [  124, 18641]], dtype=int64)"
      ]
     },
     "execution_count": 89,
     "metadata": {},
     "output_type": "execute_result"
    }
   ],
   "source": [
    "confusion_matrix(y_test,pred_resampled)"
   ]
  },
  {
   "cell_type": "code",
   "execution_count": 112,
   "id": "776574e2-b108-43b7-8899-05eb1d1fa613",
   "metadata": {},
   "outputs": [
    {
     "name": "stdout",
     "output_type": "stream",
     "text": [
      "                   pre       rec       spe        f1       geo       iba       sup\n",
      "\n",
      "  high_risk     0.8322    0.9935    0.9934    0.9057    0.9935    0.9870       619\n",
      "   low_risk     0.9998    0.9934    0.9935    0.9966    0.9935    0.9870     18765\n",
      "\n",
      "avg / total     0.9944    0.9934    0.9935    0.9937    0.9935    0.9870     19384\n",
      "\n"
     ]
    }
   ],
   "source": [
    "print(classification_report_imbalanced(y_test,pred_resampled,digits =4))"
   ]
  },
  {
   "cell_type": "markdown",
   "id": "fce45b7f-0a8a-4f27-9ded-10001309c175",
   "metadata": {},
   "source": [
    "## SMOTE Oversampling"
   ]
  },
  {
   "cell_type": "code",
   "execution_count": 91,
   "id": "13a25d5e-fc25-4cfa-880e-3f459af46ad7",
   "metadata": {},
   "outputs": [],
   "source": [
    "from imblearn.over_sampling import SMOTE"
   ]
  },
  {
   "cell_type": "code",
   "execution_count": 92,
   "id": "9a2d90b3-759d-470c-9ba0-8aee005e40dd",
   "metadata": {},
   "outputs": [
    {
     "data": {
      "text/plain": [
       "Counter({'low_risk': 56271, 'high_risk': 56271})"
      ]
     },
     "execution_count": 96,
     "metadata": {},
     "output_type": "execute_result"
    }
   ],
   "source": [
    "X_resampled1,y_resampled1=SMOTE(sampling_strategy=1.0,random_state=1).fit_resample(x_train_scaled,y_train)\n",
    "Counter(y_resampled1)"
   ]
  },
  {
   "cell_type": "code",
   "execution_count": 97,
   "id": "2a7b41b3-fdb2-45cd-8b7b-43fcec8a31da",
   "metadata": {},
   "outputs": [],
   "source": [
    "# fitiing the model with over sampled data using smote oversampling :\n",
    "model.fit(X_resampled1,y_resampled1)\n",
    "# making predictions:\n",
    "pred_resampled1 = model.predict(x_test_scaled)"
   ]
  },
  {
   "cell_type": "markdown",
   "id": "bffa1370-6ea5-4c8c-8f3e-a00de59c445c",
   "metadata": {},
   "source": [
    "#### Evaluation :"
   ]
  },
  {
   "cell_type": "code",
   "execution_count": 37,
   "id": "f09242c9-b6e1-49e0-abcd-32af7672ec6b",
   "metadata": {},
   "outputs": [
    {
     "data": {
      "text/plain": [
       "0.9934116680807212"
      ]
     },
     "execution_count": 37,
     "metadata": {},
     "output_type": "execute_result"
    }
   ],
   "source": [
    "balanced_accuracy_score(y_test,pred_resampled1)"
   ]
  },
  {
   "cell_type": "code",
   "execution_count": 38,
   "id": "89b5e8e8-aa81-4e5a-9e0e-e2f1ba55ca5e",
   "metadata": {},
   "outputs": [
    {
     "data": {
      "text/plain": [
       "array([[  615,     4],\n",
       "       [  126, 18639]], dtype=int64)"
      ]
     },
     "execution_count": 38,
     "metadata": {},
     "output_type": "execute_result"
    }
   ],
   "source": [
    "confusion_matrix(y_test,pred_resampled1)"
   ]
  },
  {
   "cell_type": "code",
   "execution_count": 113,
   "id": "41bd3631-f648-4240-9e59-654956a3af92",
   "metadata": {},
   "outputs": [
    {
     "name": "stdout",
     "output_type": "stream",
     "text": [
      "                   pre       rec       spe        f1       geo       iba       sup\n",
      "\n",
      "  high_risk     0.8300    0.9935    0.9933    0.9044    0.9934    0.9869       619\n",
      "   low_risk     0.9998    0.9933    0.9935    0.9965    0.9934    0.9868     18765\n",
      "\n",
      "avg / total     0.9944    0.9933    0.9935    0.9936    0.9934    0.9868     19384\n",
      "\n"
     ]
    }
   ],
   "source": [
    "print(classification_report_imbalanced(y_test,pred_resampled1,digits=4))"
   ]
  },
  {
   "cell_type": "markdown",
   "id": "20bed626-30d0-4517-a3b4-0998b9274c6f",
   "metadata": {},
   "source": [
    "## Under Sampling"
   ]
  },
  {
   "cell_type": "code",
   "execution_count": 41,
   "id": "bd956655-043d-4fd4-b370-1eea628c9fbe",
   "metadata": {},
   "outputs": [],
   "source": [
    "from imblearn.under_sampling import ClusterCentroids\n",
    "cc = ClusterCentroids(random_state=1)"
   ]
  },
  {
   "cell_type": "code",
   "execution_count": 99,
   "id": "f5a3cf47-102b-44a4-abf3-fa6c091c29fd",
   "metadata": {},
   "outputs": [
    {
     "data": {
      "text/plain": [
       "Counter({'high_risk': 1881, 'low_risk': 1881})"
      ]
     },
     "execution_count": 99,
     "metadata": {},
     "output_type": "execute_result"
    }
   ],
   "source": [
    "# Under sampling the data sets :\n",
    "X_resampled2,y_resampled2 = cc.fit_resample(x_train_scaled,y_train)\n",
    "Counter(y_resampled2)"
   ]
  },
  {
   "cell_type": "code",
   "execution_count": 100,
   "id": "e1867bff-5b4a-456f-822c-1dbc15d8e34d",
   "metadata": {},
   "outputs": [
    {
     "data": {
      "text/plain": [
       "LogisticRegression(random_state=1)"
      ]
     },
     "execution_count": 100,
     "metadata": {},
     "output_type": "execute_result"
    }
   ],
   "source": [
    "# fitting the model with under sampled data sets :\n",
    "model.fit(X_resampled2,y_resampled2)"
   ]
  },
  {
   "cell_type": "code",
   "execution_count": 101,
   "id": "020aceea-08f6-46ef-80e1-5caef9071c44",
   "metadata": {},
   "outputs": [],
   "source": [
    "# making predictions :\n",
    "pred_undersampling = model.predict(x_test_scaled)"
   ]
  },
  {
   "cell_type": "markdown",
   "id": "b7211eb6-eda3-4674-8cf6-4b6fed981aff",
   "metadata": {},
   "source": [
    "#### Evaluation :"
   ]
  },
  {
   "cell_type": "code",
   "execution_count": 108,
   "id": "b3ee4e61-c264-435e-8e5f-82b6dc53b2ae",
   "metadata": {},
   "outputs": [
    {
     "data": {
      "text/plain": [
       "0.9921425487504449"
      ]
     },
     "execution_count": 108,
     "metadata": {},
     "output_type": "execute_result"
    }
   ],
   "source": [
    "balanced_accuracy_score(y_test,pred_undersampling)"
   ]
  },
  {
   "cell_type": "code",
   "execution_count": 49,
   "id": "9dcfdbe5-117f-46a6-84ed-681d4e8ba04d",
   "metadata": {},
   "outputs": [
    {
     "data": {
      "text/plain": [
       "array([[  613,     6],\n",
       "       [  113, 18652]], dtype=int64)"
      ]
     },
     "execution_count": 49,
     "metadata": {},
     "output_type": "execute_result"
    }
   ],
   "source": [
    "confusion_matrix(y_test,pred_undersampling)"
   ]
  },
  {
   "cell_type": "code",
   "execution_count": 114,
   "id": "8a5f8746-24a7-4ed4-8145-4e99bde37fa7",
   "metadata": {},
   "outputs": [
    {
     "name": "stdout",
     "output_type": "stream",
     "text": [
      "                   pre       rec       spe        f1       geo       iba       sup\n",
      "\n",
      "  high_risk     0.8444    0.9903    0.9940    0.9115    0.9921    0.9840       619\n",
      "   low_risk     0.9997    0.9940    0.9903    0.9968    0.9921    0.9847     18765\n",
      "\n",
      "avg / total     0.9947    0.9939    0.9904    0.9941    0.9921    0.9847     19384\n",
      "\n"
     ]
    }
   ],
   "source": [
    "print(classification_report_imbalanced(y_test,pred_undersampling,digits=4))"
   ]
  },
  {
   "cell_type": "markdown",
   "id": "78ec17d6-0b53-4304-abe8-70316bafda90",
   "metadata": {},
   "source": [
    "## Combination of Over and UnderSampling"
   ]
  },
  {
   "cell_type": "code",
   "execution_count": 52,
   "id": "f3b9de0c-c34d-447f-ab0b-f8e95965024d",
   "metadata": {},
   "outputs": [],
   "source": [
    "from imblearn.combine import SMOTEENN"
   ]
  },
  {
   "cell_type": "code",
   "execution_count": 53,
   "id": "7d1586b6-5f5e-4429-92e0-c492901643d8",
   "metadata": {},
   "outputs": [],
   "source": [
    "sm = SMOTEENN(random_state=1)"
   ]
  },
  {
   "cell_type": "code",
   "execution_count": 102,
   "id": "04455839-c1bf-4593-80bb-f8345f463d00",
   "metadata": {},
   "outputs": [
    {
     "data": {
      "text/plain": [
       "Counter({'high_risk': 55551, 'low_risk': 55922})"
      ]
     },
     "execution_count": 102,
     "metadata": {},
     "output_type": "execute_result"
    }
   ],
   "source": [
    "# manipulating the data with a combination of over and under sampling :\n",
    "X_resampled3,y_resampled3 = sm.fit_resample(x_train_scaled,y_train)\n",
    "Counter(y_resampled3)"
   ]
  },
  {
   "cell_type": "code",
   "execution_count": 103,
   "id": "c89caff8-f14c-4098-b9ad-77c72dc41556",
   "metadata": {},
   "outputs": [
    {
     "data": {
      "text/plain": [
       "LogisticRegression(random_state=1)"
      ]
     },
     "execution_count": 103,
     "metadata": {},
     "output_type": "execute_result"
    }
   ],
   "source": [
    "# fitting the model with the manipulated data :\n",
    "model.fit(X_resampled3,y_resampled3)"
   ]
  },
  {
   "cell_type": "code",
   "execution_count": 104,
   "id": "450305eb-ac8c-4d09-b333-bb8cf7e5061a",
   "metadata": {},
   "outputs": [],
   "source": [
    "# making predictions :\n",
    "pred_combine = model.predict(x_test_scaled)"
   ]
  },
  {
   "cell_type": "markdown",
   "id": "e71845c3-a1fb-467c-9b46-57ff7aa1edf1",
   "metadata": {},
   "source": [
    "#### Evaluation :"
   ]
  },
  {
   "cell_type": "code",
   "execution_count": 105,
   "id": "008e1b02-b3ac-4ef3-96d3-1fbf6dc87cc0",
   "metadata": {},
   "outputs": [
    {
     "data": {
      "text/plain": [
       "0.9934649587814939"
      ]
     },
     "execution_count": 105,
     "metadata": {},
     "output_type": "execute_result"
    }
   ],
   "source": [
    "balanced_accuracy_score(y_test,pred_combine)"
   ]
  },
  {
   "cell_type": "code",
   "execution_count": 106,
   "id": "7e0237b8-4761-4ac8-adc6-16ae0987bedf",
   "metadata": {},
   "outputs": [
    {
     "data": {
      "text/plain": [
       "array([[  615,     4],\n",
       "       [  124, 18641]], dtype=int64)"
      ]
     },
     "execution_count": 106,
     "metadata": {},
     "output_type": "execute_result"
    }
   ],
   "source": [
    "confusion_matrix(y_test,pred_combine)"
   ]
  },
  {
   "cell_type": "code",
   "execution_count": 115,
   "id": "512fa26c-501f-4d97-b666-ce7fe1ec0427",
   "metadata": {},
   "outputs": [
    {
     "name": "stdout",
     "output_type": "stream",
     "text": [
      "                   pre       rec       spe        f1       geo       iba       sup\n",
      "\n",
      "  high_risk     0.8322    0.9935    0.9934    0.9057    0.9935    0.9870       619\n",
      "   low_risk     0.9998    0.9934    0.9935    0.9966    0.9935    0.9870     18765\n",
      "\n",
      "avg / total     0.9944    0.9934    0.9935    0.9937    0.9935    0.9870     19384\n",
      "\n"
     ]
    }
   ],
   "source": [
    "print(classification_report_imbalanced(y_test,pred_combine,digits=4))"
   ]
  },
  {
   "cell_type": "markdown",
   "id": "16465204-4e96-4ca3-8ef6-afc0f2dc30ae",
   "metadata": {},
   "source": [
    "## Findings :"
   ]
  },
  {
   "cell_type": "markdown",
   "id": "d766b56d-8bc3-43cb-9b7f-e5ab1fcff971",
   "metadata": {
    "tags": []
   },
   "source": [
    "#### Q-1: Best accuracy score ?"
   ]
  },
  {
   "cell_type": "code",
   "execution_count": 110,
   "id": "6baaeb9b-d955-4e9a-899b-d080004e6aa3",
   "metadata": {},
   "outputs": [],
   "source": [
    "# Models with oversampled data seem to perform better in comparison to other models where data was not over sampled.\n",
    "# Accuracy score being : 99.34"
   ]
  },
  {
   "cell_type": "markdown",
   "id": "075d7cff-34e7-47bd-907c-e581794ce5d6",
   "metadata": {},
   "source": [
    "#### Q-2: Best recall ?"
   ]
  },
  {
   "cell_type": "code",
   "execution_count": 116,
   "id": "3b72c1c9-20f3-4693-afbd-42aab99c9f0e",
   "metadata": {},
   "outputs": [],
   "source": [
    "# According the the classification report the best recall score is acheived when data was under sampled.\n",
    "# Recall Score = 99.39"
   ]
  },
  {
   "cell_type": "markdown",
   "id": "a212a42d-d385-4a25-af8a-54b06f608e56",
   "metadata": {},
   "source": [
    "#### Q-3: Best geometric mean score ?"
   ]
  },
  {
   "cell_type": "code",
   "execution_count": 117,
   "id": "2aece915-2459-482b-86ce-9b9370387d80",
   "metadata": {},
   "outputs": [],
   "source": [
    "# The best geometric mean score was acheived when the data was oversampled.\n",
    "# Geo Score = 99.34."
   ]
  }
 ],
 "metadata": {
  "kernelspec": {
   "display_name": "Python 3 (ipykernel)",
   "language": "python",
   "name": "python3"
  },
  "language_info": {
   "codemirror_mode": {
    "name": "ipython",
    "version": 3
   },
   "file_extension": ".py",
   "mimetype": "text/x-python",
   "name": "python",
   "nbconvert_exporter": "python",
   "pygments_lexer": "ipython3",
   "version": "3.9.12"
  }
 },
 "nbformat": 4,
 "nbformat_minor": 5
}
